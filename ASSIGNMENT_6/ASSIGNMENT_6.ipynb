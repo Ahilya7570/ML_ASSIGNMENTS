{
 "cells": [
  {
   "cell_type": "code",
   "execution_count": null,
   "id": "38536ad5-0748-46c6-aed7-7f1fde0bdde2",
   "metadata": {},
   "outputs": [],
   "source": [
    "#Assignment on Regression technique\n",
    "#This data consists of temperatures of INDIA averaging the temperatures of all places month\n",
    "#wise. Temperatures values are recorded in CELSIUS\n",
    "#a. Apply Linear Regression using suitable library function and predict the Month-wise\n",
    "#temperature.\n",
    "#b. Assessthe performance of regression models using MSE, MAE and R-Square metrics\n",
    "#c. Visualize simple regression model."
   ]
  },
  {
   "cell_type": "code",
   "execution_count": 1,
   "id": "14fe23fb-4901-437a-a741-a45225ba9445",
   "metadata": {},
   "outputs": [],
   "source": [
    "#IMPORT LIBRARY\n",
    "import numpy as np#for linear data\n",
    "import pandas as pd # for data preprocessing\n",
    "import seaborn as sns#for statistical graphics\n"
   ]
  },
  {
   "cell_type": "code",
   "execution_count": 3,
   "id": "cdc26a2f-2ddc-48cb-bf60-569b29df1184",
   "metadata": {},
   "outputs": [],
   "source": [
    "#to read the data\n",
    "data=pd.read_csv(\"temperatures.csv\")\n"
   ]
  },
  {
   "cell_type": "code",
   "execution_count": 4,
   "id": "1eb2b31f-6ff5-48c9-8ede-d99df8ad000c",
   "metadata": {},
   "outputs": [
    {
     "data": {
      "text/html": [
       "<div>\n",
       "<style scoped>\n",
       "    .dataframe tbody tr th:only-of-type {\n",
       "        vertical-align: middle;\n",
       "    }\n",
       "\n",
       "    .dataframe tbody tr th {\n",
       "        vertical-align: top;\n",
       "    }\n",
       "\n",
       "    .dataframe thead th {\n",
       "        text-align: right;\n",
       "    }\n",
       "</style>\n",
       "<table border=\"1\" class=\"dataframe\">\n",
       "  <thead>\n",
       "    <tr style=\"text-align: right;\">\n",
       "      <th></th>\n",
       "      <th>YEAR</th>\n",
       "      <th>JAN</th>\n",
       "      <th>FEB</th>\n",
       "      <th>MAR</th>\n",
       "      <th>APR</th>\n",
       "      <th>MAY</th>\n",
       "      <th>JUN</th>\n",
       "      <th>JUL</th>\n",
       "      <th>AUG</th>\n",
       "      <th>SEP</th>\n",
       "      <th>OCT</th>\n",
       "      <th>NOV</th>\n",
       "      <th>DEC</th>\n",
       "      <th>ANNUAL</th>\n",
       "      <th>JAN-FEB</th>\n",
       "      <th>MAR-MAY</th>\n",
       "      <th>JUN-SEP</th>\n",
       "      <th>OCT-DEC</th>\n",
       "    </tr>\n",
       "  </thead>\n",
       "  <tbody>\n",
       "    <tr>\n",
       "      <th>count</th>\n",
       "      <td>117.000000</td>\n",
       "      <td>117.000000</td>\n",
       "      <td>117.000000</td>\n",
       "      <td>117.000000</td>\n",
       "      <td>117.000000</td>\n",
       "      <td>117.000000</td>\n",
       "      <td>117.000000</td>\n",
       "      <td>117.000000</td>\n",
       "      <td>117.000000</td>\n",
       "      <td>117.000000</td>\n",
       "      <td>117.000000</td>\n",
       "      <td>117.000000</td>\n",
       "      <td>117.000000</td>\n",
       "      <td>117.000000</td>\n",
       "      <td>117.000000</td>\n",
       "      <td>117.000000</td>\n",
       "      <td>117.000000</td>\n",
       "      <td>117.000000</td>\n",
       "    </tr>\n",
       "    <tr>\n",
       "      <th>mean</th>\n",
       "      <td>1959.000000</td>\n",
       "      <td>23.687436</td>\n",
       "      <td>25.597863</td>\n",
       "      <td>29.085983</td>\n",
       "      <td>31.975812</td>\n",
       "      <td>33.565299</td>\n",
       "      <td>32.774274</td>\n",
       "      <td>31.035897</td>\n",
       "      <td>30.507692</td>\n",
       "      <td>30.486752</td>\n",
       "      <td>29.766581</td>\n",
       "      <td>27.285470</td>\n",
       "      <td>24.608291</td>\n",
       "      <td>29.181368</td>\n",
       "      <td>24.629573</td>\n",
       "      <td>31.517607</td>\n",
       "      <td>31.198205</td>\n",
       "      <td>27.208120</td>\n",
       "    </tr>\n",
       "    <tr>\n",
       "      <th>std</th>\n",
       "      <td>33.919021</td>\n",
       "      <td>0.834588</td>\n",
       "      <td>1.150757</td>\n",
       "      <td>1.068451</td>\n",
       "      <td>0.889478</td>\n",
       "      <td>0.724905</td>\n",
       "      <td>0.633132</td>\n",
       "      <td>0.468818</td>\n",
       "      <td>0.476312</td>\n",
       "      <td>0.544295</td>\n",
       "      <td>0.705492</td>\n",
       "      <td>0.714518</td>\n",
       "      <td>0.782644</td>\n",
       "      <td>0.555555</td>\n",
       "      <td>0.911239</td>\n",
       "      <td>0.740585</td>\n",
       "      <td>0.420508</td>\n",
       "      <td>0.672003</td>\n",
       "    </tr>\n",
       "    <tr>\n",
       "      <th>min</th>\n",
       "      <td>1901.000000</td>\n",
       "      <td>22.000000</td>\n",
       "      <td>22.830000</td>\n",
       "      <td>26.680000</td>\n",
       "      <td>30.010000</td>\n",
       "      <td>31.930000</td>\n",
       "      <td>31.100000</td>\n",
       "      <td>29.760000</td>\n",
       "      <td>29.310000</td>\n",
       "      <td>29.070000</td>\n",
       "      <td>27.900000</td>\n",
       "      <td>25.700000</td>\n",
       "      <td>23.020000</td>\n",
       "      <td>28.110000</td>\n",
       "      <td>22.250000</td>\n",
       "      <td>29.920000</td>\n",
       "      <td>30.240000</td>\n",
       "      <td>25.740000</td>\n",
       "    </tr>\n",
       "    <tr>\n",
       "      <th>25%</th>\n",
       "      <td>1930.000000</td>\n",
       "      <td>23.100000</td>\n",
       "      <td>24.780000</td>\n",
       "      <td>28.370000</td>\n",
       "      <td>31.460000</td>\n",
       "      <td>33.110000</td>\n",
       "      <td>32.340000</td>\n",
       "      <td>30.740000</td>\n",
       "      <td>30.180000</td>\n",
       "      <td>30.120000</td>\n",
       "      <td>29.380000</td>\n",
       "      <td>26.790000</td>\n",
       "      <td>24.040000</td>\n",
       "      <td>28.760000</td>\n",
       "      <td>24.110000</td>\n",
       "      <td>31.040000</td>\n",
       "      <td>30.920000</td>\n",
       "      <td>26.700000</td>\n",
       "    </tr>\n",
       "    <tr>\n",
       "      <th>50%</th>\n",
       "      <td>1959.000000</td>\n",
       "      <td>23.680000</td>\n",
       "      <td>25.480000</td>\n",
       "      <td>29.040000</td>\n",
       "      <td>31.950000</td>\n",
       "      <td>33.510000</td>\n",
       "      <td>32.730000</td>\n",
       "      <td>31.000000</td>\n",
       "      <td>30.540000</td>\n",
       "      <td>30.520000</td>\n",
       "      <td>29.780000</td>\n",
       "      <td>27.300000</td>\n",
       "      <td>24.660000</td>\n",
       "      <td>29.090000</td>\n",
       "      <td>24.530000</td>\n",
       "      <td>31.470000</td>\n",
       "      <td>31.190000</td>\n",
       "      <td>27.210000</td>\n",
       "    </tr>\n",
       "    <tr>\n",
       "      <th>75%</th>\n",
       "      <td>1988.000000</td>\n",
       "      <td>24.180000</td>\n",
       "      <td>26.310000</td>\n",
       "      <td>29.610000</td>\n",
       "      <td>32.420000</td>\n",
       "      <td>34.030000</td>\n",
       "      <td>33.180000</td>\n",
       "      <td>31.330000</td>\n",
       "      <td>30.760000</td>\n",
       "      <td>30.810000</td>\n",
       "      <td>30.170000</td>\n",
       "      <td>27.720000</td>\n",
       "      <td>25.110000</td>\n",
       "      <td>29.470000</td>\n",
       "      <td>25.150000</td>\n",
       "      <td>31.890000</td>\n",
       "      <td>31.400000</td>\n",
       "      <td>27.610000</td>\n",
       "    </tr>\n",
       "    <tr>\n",
       "      <th>max</th>\n",
       "      <td>2017.000000</td>\n",
       "      <td>26.940000</td>\n",
       "      <td>29.720000</td>\n",
       "      <td>32.620000</td>\n",
       "      <td>35.380000</td>\n",
       "      <td>35.840000</td>\n",
       "      <td>34.480000</td>\n",
       "      <td>32.760000</td>\n",
       "      <td>31.840000</td>\n",
       "      <td>32.220000</td>\n",
       "      <td>32.290000</td>\n",
       "      <td>30.110000</td>\n",
       "      <td>28.010000</td>\n",
       "      <td>31.630000</td>\n",
       "      <td>28.330000</td>\n",
       "      <td>34.570000</td>\n",
       "      <td>32.410000</td>\n",
       "      <td>30.030000</td>\n",
       "    </tr>\n",
       "  </tbody>\n",
       "</table>\n",
       "</div>"
      ],
      "text/plain": [
       "              YEAR         JAN         FEB         MAR         APR  \\\n",
       "count   117.000000  117.000000  117.000000  117.000000  117.000000   \n",
       "mean   1959.000000   23.687436   25.597863   29.085983   31.975812   \n",
       "std      33.919021    0.834588    1.150757    1.068451    0.889478   \n",
       "min    1901.000000   22.000000   22.830000   26.680000   30.010000   \n",
       "25%    1930.000000   23.100000   24.780000   28.370000   31.460000   \n",
       "50%    1959.000000   23.680000   25.480000   29.040000   31.950000   \n",
       "75%    1988.000000   24.180000   26.310000   29.610000   32.420000   \n",
       "max    2017.000000   26.940000   29.720000   32.620000   35.380000   \n",
       "\n",
       "              MAY         JUN         JUL         AUG         SEP         OCT  \\\n",
       "count  117.000000  117.000000  117.000000  117.000000  117.000000  117.000000   \n",
       "mean    33.565299   32.774274   31.035897   30.507692   30.486752   29.766581   \n",
       "std      0.724905    0.633132    0.468818    0.476312    0.544295    0.705492   \n",
       "min     31.930000   31.100000   29.760000   29.310000   29.070000   27.900000   \n",
       "25%     33.110000   32.340000   30.740000   30.180000   30.120000   29.380000   \n",
       "50%     33.510000   32.730000   31.000000   30.540000   30.520000   29.780000   \n",
       "75%     34.030000   33.180000   31.330000   30.760000   30.810000   30.170000   \n",
       "max     35.840000   34.480000   32.760000   31.840000   32.220000   32.290000   \n",
       "\n",
       "              NOV         DEC      ANNUAL     JAN-FEB     MAR-MAY     JUN-SEP  \\\n",
       "count  117.000000  117.000000  117.000000  117.000000  117.000000  117.000000   \n",
       "mean    27.285470   24.608291   29.181368   24.629573   31.517607   31.198205   \n",
       "std      0.714518    0.782644    0.555555    0.911239    0.740585    0.420508   \n",
       "min     25.700000   23.020000   28.110000   22.250000   29.920000   30.240000   \n",
       "25%     26.790000   24.040000   28.760000   24.110000   31.040000   30.920000   \n",
       "50%     27.300000   24.660000   29.090000   24.530000   31.470000   31.190000   \n",
       "75%     27.720000   25.110000   29.470000   25.150000   31.890000   31.400000   \n",
       "max     30.110000   28.010000   31.630000   28.330000   34.570000   32.410000   \n",
       "\n",
       "          OCT-DEC  \n",
       "count  117.000000  \n",
       "mean    27.208120  \n",
       "std      0.672003  \n",
       "min     25.740000  \n",
       "25%     26.700000  \n",
       "50%     27.210000  \n",
       "75%     27.610000  \n",
       "max     30.030000  "
      ]
     },
     "execution_count": 4,
     "metadata": {},
     "output_type": "execute_result"
    }
   ],
   "source": [
    "#to play with data\n",
    "data.describe()"
   ]
  },
  {
   "cell_type": "code",
   "execution_count": 6,
   "id": "32c2aba4-8ed6-4b90-964f-a9aa6b833763",
   "metadata": {},
   "outputs": [
    {
     "name": "stdout",
     "output_type": "stream",
     "text": [
      "<class 'pandas.core.frame.DataFrame'>\n",
      "RangeIndex: 117 entries, 0 to 116\n",
      "Data columns (total 18 columns):\n",
      " #   Column   Non-Null Count  Dtype  \n",
      "---  ------   --------------  -----  \n",
      " 0   YEAR     117 non-null    int64  \n",
      " 1   JAN      117 non-null    float64\n",
      " 2   FEB      117 non-null    float64\n",
      " 3   MAR      117 non-null    float64\n",
      " 4   APR      117 non-null    float64\n",
      " 5   MAY      117 non-null    float64\n",
      " 6   JUN      117 non-null    float64\n",
      " 7   JUL      117 non-null    float64\n",
      " 8   AUG      117 non-null    float64\n",
      " 9   SEP      117 non-null    float64\n",
      " 10  OCT      117 non-null    float64\n",
      " 11  NOV      117 non-null    float64\n",
      " 12  DEC      117 non-null    float64\n",
      " 13  ANNUAL   117 non-null    float64\n",
      " 14  JAN-FEB  117 non-null    float64\n",
      " 15  MAR-MAY  117 non-null    float64\n",
      " 16  JUN-SEP  117 non-null    float64\n",
      " 17  OCT-DEC  117 non-null    float64\n",
      "dtypes: float64(17), int64(1)\n",
      "memory usage: 16.6 KB\n"
     ]
    }
   ],
   "source": [
    "data.info()"
   ]
  },
  {
   "cell_type": "code",
   "execution_count": 7,
   "id": "a96d02b6-1a23-4615-bfcc-5266d49bdbf1",
   "metadata": {},
   "outputs": [
    {
     "data": {
      "text/html": [
       "<div>\n",
       "<style scoped>\n",
       "    .dataframe tbody tr th:only-of-type {\n",
       "        vertical-align: middle;\n",
       "    }\n",
       "\n",
       "    .dataframe tbody tr th {\n",
       "        vertical-align: top;\n",
       "    }\n",
       "\n",
       "    .dataframe thead th {\n",
       "        text-align: right;\n",
       "    }\n",
       "</style>\n",
       "<table border=\"1\" class=\"dataframe\">\n",
       "  <thead>\n",
       "    <tr style=\"text-align: right;\">\n",
       "      <th></th>\n",
       "      <th>YEAR</th>\n",
       "      <th>JAN</th>\n",
       "      <th>FEB</th>\n",
       "      <th>MAR</th>\n",
       "      <th>APR</th>\n",
       "      <th>MAY</th>\n",
       "      <th>JUN</th>\n",
       "      <th>JUL</th>\n",
       "      <th>AUG</th>\n",
       "      <th>SEP</th>\n",
       "      <th>OCT</th>\n",
       "      <th>NOV</th>\n",
       "      <th>DEC</th>\n",
       "      <th>ANNUAL</th>\n",
       "      <th>JAN-FEB</th>\n",
       "      <th>MAR-MAY</th>\n",
       "      <th>JUN-SEP</th>\n",
       "      <th>OCT-DEC</th>\n",
       "    </tr>\n",
       "  </thead>\n",
       "  <tbody>\n",
       "    <tr>\n",
       "      <th>0</th>\n",
       "      <td>1901</td>\n",
       "      <td>22.40</td>\n",
       "      <td>24.14</td>\n",
       "      <td>29.07</td>\n",
       "      <td>31.91</td>\n",
       "      <td>33.41</td>\n",
       "      <td>33.18</td>\n",
       "      <td>31.21</td>\n",
       "      <td>30.39</td>\n",
       "      <td>30.47</td>\n",
       "      <td>29.97</td>\n",
       "      <td>27.31</td>\n",
       "      <td>24.49</td>\n",
       "      <td>28.96</td>\n",
       "      <td>23.27</td>\n",
       "      <td>31.46</td>\n",
       "      <td>31.27</td>\n",
       "      <td>27.25</td>\n",
       "    </tr>\n",
       "    <tr>\n",
       "      <th>1</th>\n",
       "      <td>1902</td>\n",
       "      <td>24.93</td>\n",
       "      <td>26.58</td>\n",
       "      <td>29.77</td>\n",
       "      <td>31.78</td>\n",
       "      <td>33.73</td>\n",
       "      <td>32.91</td>\n",
       "      <td>30.92</td>\n",
       "      <td>30.73</td>\n",
       "      <td>29.80</td>\n",
       "      <td>29.12</td>\n",
       "      <td>26.31</td>\n",
       "      <td>24.04</td>\n",
       "      <td>29.22</td>\n",
       "      <td>25.75</td>\n",
       "      <td>31.76</td>\n",
       "      <td>31.09</td>\n",
       "      <td>26.49</td>\n",
       "    </tr>\n",
       "    <tr>\n",
       "      <th>2</th>\n",
       "      <td>1903</td>\n",
       "      <td>23.44</td>\n",
       "      <td>25.03</td>\n",
       "      <td>27.83</td>\n",
       "      <td>31.39</td>\n",
       "      <td>32.91</td>\n",
       "      <td>33.00</td>\n",
       "      <td>31.34</td>\n",
       "      <td>29.98</td>\n",
       "      <td>29.85</td>\n",
       "      <td>29.04</td>\n",
       "      <td>26.08</td>\n",
       "      <td>23.65</td>\n",
       "      <td>28.47</td>\n",
       "      <td>24.24</td>\n",
       "      <td>30.71</td>\n",
       "      <td>30.92</td>\n",
       "      <td>26.26</td>\n",
       "    </tr>\n",
       "    <tr>\n",
       "      <th>3</th>\n",
       "      <td>1904</td>\n",
       "      <td>22.50</td>\n",
       "      <td>24.73</td>\n",
       "      <td>28.21</td>\n",
       "      <td>32.02</td>\n",
       "      <td>32.64</td>\n",
       "      <td>32.07</td>\n",
       "      <td>30.36</td>\n",
       "      <td>30.09</td>\n",
       "      <td>30.04</td>\n",
       "      <td>29.20</td>\n",
       "      <td>26.36</td>\n",
       "      <td>23.63</td>\n",
       "      <td>28.49</td>\n",
       "      <td>23.62</td>\n",
       "      <td>30.95</td>\n",
       "      <td>30.66</td>\n",
       "      <td>26.40</td>\n",
       "    </tr>\n",
       "    <tr>\n",
       "      <th>4</th>\n",
       "      <td>1905</td>\n",
       "      <td>22.00</td>\n",
       "      <td>22.83</td>\n",
       "      <td>26.68</td>\n",
       "      <td>30.01</td>\n",
       "      <td>33.32</td>\n",
       "      <td>33.25</td>\n",
       "      <td>31.44</td>\n",
       "      <td>30.68</td>\n",
       "      <td>30.12</td>\n",
       "      <td>30.67</td>\n",
       "      <td>27.52</td>\n",
       "      <td>23.82</td>\n",
       "      <td>28.30</td>\n",
       "      <td>22.25</td>\n",
       "      <td>30.00</td>\n",
       "      <td>31.33</td>\n",
       "      <td>26.57</td>\n",
       "    </tr>\n",
       "  </tbody>\n",
       "</table>\n",
       "</div>"
      ],
      "text/plain": [
       "   YEAR    JAN    FEB    MAR    APR    MAY    JUN    JUL    AUG    SEP    OCT  \\\n",
       "0  1901  22.40  24.14  29.07  31.91  33.41  33.18  31.21  30.39  30.47  29.97   \n",
       "1  1902  24.93  26.58  29.77  31.78  33.73  32.91  30.92  30.73  29.80  29.12   \n",
       "2  1903  23.44  25.03  27.83  31.39  32.91  33.00  31.34  29.98  29.85  29.04   \n",
       "3  1904  22.50  24.73  28.21  32.02  32.64  32.07  30.36  30.09  30.04  29.20   \n",
       "4  1905  22.00  22.83  26.68  30.01  33.32  33.25  31.44  30.68  30.12  30.67   \n",
       "\n",
       "     NOV    DEC  ANNUAL  JAN-FEB  MAR-MAY  JUN-SEP  OCT-DEC  \n",
       "0  27.31  24.49   28.96    23.27    31.46    31.27    27.25  \n",
       "1  26.31  24.04   29.22    25.75    31.76    31.09    26.49  \n",
       "2  26.08  23.65   28.47    24.24    30.71    30.92    26.26  \n",
       "3  26.36  23.63   28.49    23.62    30.95    30.66    26.40  \n",
       "4  27.52  23.82   28.30    22.25    30.00    31.33    26.57  "
      ]
     },
     "execution_count": 7,
     "metadata": {},
     "output_type": "execute_result"
    }
   ],
   "source": [
    "data.head()"
   ]
  },
  {
   "cell_type": "code",
   "execution_count": 8,
   "id": "566d3717-0045-4282-b771-3c4a840fb385",
   "metadata": {},
   "outputs": [
    {
     "data": {
      "text/html": [
       "<div>\n",
       "<style scoped>\n",
       "    .dataframe tbody tr th:only-of-type {\n",
       "        vertical-align: middle;\n",
       "    }\n",
       "\n",
       "    .dataframe tbody tr th {\n",
       "        vertical-align: top;\n",
       "    }\n",
       "\n",
       "    .dataframe thead th {\n",
       "        text-align: right;\n",
       "    }\n",
       "</style>\n",
       "<table border=\"1\" class=\"dataframe\">\n",
       "  <thead>\n",
       "    <tr style=\"text-align: right;\">\n",
       "      <th></th>\n",
       "      <th>YEAR</th>\n",
       "      <th>JAN</th>\n",
       "      <th>FEB</th>\n",
       "      <th>MAR</th>\n",
       "      <th>APR</th>\n",
       "      <th>MAY</th>\n",
       "      <th>JUN</th>\n",
       "      <th>JUL</th>\n",
       "      <th>AUG</th>\n",
       "      <th>SEP</th>\n",
       "      <th>OCT</th>\n",
       "      <th>NOV</th>\n",
       "      <th>DEC</th>\n",
       "      <th>ANNUAL</th>\n",
       "      <th>JAN-FEB</th>\n",
       "      <th>MAR-MAY</th>\n",
       "      <th>JUN-SEP</th>\n",
       "      <th>OCT-DEC</th>\n",
       "    </tr>\n",
       "  </thead>\n",
       "  <tbody>\n",
       "    <tr>\n",
       "      <th>112</th>\n",
       "      <td>2013</td>\n",
       "      <td>24.56</td>\n",
       "      <td>26.59</td>\n",
       "      <td>30.62</td>\n",
       "      <td>32.66</td>\n",
       "      <td>34.46</td>\n",
       "      <td>32.44</td>\n",
       "      <td>31.07</td>\n",
       "      <td>30.76</td>\n",
       "      <td>31.04</td>\n",
       "      <td>30.27</td>\n",
       "      <td>27.83</td>\n",
       "      <td>25.37</td>\n",
       "      <td>29.81</td>\n",
       "      <td>25.58</td>\n",
       "      <td>32.58</td>\n",
       "      <td>31.33</td>\n",
       "      <td>27.83</td>\n",
       "    </tr>\n",
       "    <tr>\n",
       "      <th>113</th>\n",
       "      <td>2014</td>\n",
       "      <td>23.83</td>\n",
       "      <td>25.97</td>\n",
       "      <td>28.95</td>\n",
       "      <td>32.74</td>\n",
       "      <td>33.77</td>\n",
       "      <td>34.15</td>\n",
       "      <td>31.85</td>\n",
       "      <td>31.32</td>\n",
       "      <td>30.68</td>\n",
       "      <td>30.29</td>\n",
       "      <td>28.05</td>\n",
       "      <td>25.08</td>\n",
       "      <td>29.72</td>\n",
       "      <td>24.90</td>\n",
       "      <td>31.82</td>\n",
       "      <td>32.00</td>\n",
       "      <td>27.81</td>\n",
       "    </tr>\n",
       "    <tr>\n",
       "      <th>114</th>\n",
       "      <td>2015</td>\n",
       "      <td>24.58</td>\n",
       "      <td>26.89</td>\n",
       "      <td>29.07</td>\n",
       "      <td>31.87</td>\n",
       "      <td>34.09</td>\n",
       "      <td>32.48</td>\n",
       "      <td>31.88</td>\n",
       "      <td>31.52</td>\n",
       "      <td>31.55</td>\n",
       "      <td>31.04</td>\n",
       "      <td>28.10</td>\n",
       "      <td>25.67</td>\n",
       "      <td>29.90</td>\n",
       "      <td>25.74</td>\n",
       "      <td>31.68</td>\n",
       "      <td>31.87</td>\n",
       "      <td>28.27</td>\n",
       "    </tr>\n",
       "    <tr>\n",
       "      <th>115</th>\n",
       "      <td>2016</td>\n",
       "      <td>26.94</td>\n",
       "      <td>29.72</td>\n",
       "      <td>32.62</td>\n",
       "      <td>35.38</td>\n",
       "      <td>35.72</td>\n",
       "      <td>34.03</td>\n",
       "      <td>31.64</td>\n",
       "      <td>31.79</td>\n",
       "      <td>31.66</td>\n",
       "      <td>31.98</td>\n",
       "      <td>30.11</td>\n",
       "      <td>28.01</td>\n",
       "      <td>31.63</td>\n",
       "      <td>28.33</td>\n",
       "      <td>34.57</td>\n",
       "      <td>32.28</td>\n",
       "      <td>30.03</td>\n",
       "    </tr>\n",
       "    <tr>\n",
       "      <th>116</th>\n",
       "      <td>2017</td>\n",
       "      <td>26.45</td>\n",
       "      <td>29.46</td>\n",
       "      <td>31.60</td>\n",
       "      <td>34.95</td>\n",
       "      <td>35.84</td>\n",
       "      <td>33.82</td>\n",
       "      <td>31.88</td>\n",
       "      <td>31.72</td>\n",
       "      <td>32.22</td>\n",
       "      <td>32.29</td>\n",
       "      <td>29.60</td>\n",
       "      <td>27.18</td>\n",
       "      <td>31.42</td>\n",
       "      <td>27.95</td>\n",
       "      <td>34.13</td>\n",
       "      <td>32.41</td>\n",
       "      <td>29.69</td>\n",
       "    </tr>\n",
       "  </tbody>\n",
       "</table>\n",
       "</div>"
      ],
      "text/plain": [
       "     YEAR    JAN    FEB    MAR    APR    MAY    JUN    JUL    AUG    SEP  \\\n",
       "112  2013  24.56  26.59  30.62  32.66  34.46  32.44  31.07  30.76  31.04   \n",
       "113  2014  23.83  25.97  28.95  32.74  33.77  34.15  31.85  31.32  30.68   \n",
       "114  2015  24.58  26.89  29.07  31.87  34.09  32.48  31.88  31.52  31.55   \n",
       "115  2016  26.94  29.72  32.62  35.38  35.72  34.03  31.64  31.79  31.66   \n",
       "116  2017  26.45  29.46  31.60  34.95  35.84  33.82  31.88  31.72  32.22   \n",
       "\n",
       "       OCT    NOV    DEC  ANNUAL  JAN-FEB  MAR-MAY  JUN-SEP  OCT-DEC  \n",
       "112  30.27  27.83  25.37   29.81    25.58    32.58    31.33    27.83  \n",
       "113  30.29  28.05  25.08   29.72    24.90    31.82    32.00    27.81  \n",
       "114  31.04  28.10  25.67   29.90    25.74    31.68    31.87    28.27  \n",
       "115  31.98  30.11  28.01   31.63    28.33    34.57    32.28    30.03  \n",
       "116  32.29  29.60  27.18   31.42    27.95    34.13    32.41    29.69  "
      ]
     },
     "execution_count": 8,
     "metadata": {},
     "output_type": "execute_result"
    }
   ],
   "source": [
    "data.tail()"
   ]
  },
  {
   "cell_type": "code",
   "execution_count": 9,
   "id": "f024cd2e-a864-440b-8390-ddd7c19c1a26",
   "metadata": {},
   "outputs": [
    {
     "data": {
      "text/plain": [
       "pandas.core.frame.DataFrame"
      ]
     },
     "execution_count": 9,
     "metadata": {},
     "output_type": "execute_result"
    }
   ],
   "source": [
    "type(data)"
   ]
  },
  {
   "cell_type": "code",
   "execution_count": 10,
   "id": "7095e6c6-8f3f-4113-a4a9-7aad639801a7",
   "metadata": {},
   "outputs": [
    {
     "data": {
      "text/plain": [
       "(117, 18)"
      ]
     },
     "execution_count": 10,
     "metadata": {},
     "output_type": "execute_result"
    }
   ],
   "source": [
    "data.shape#rows,columns"
   ]
  },
  {
   "cell_type": "code",
   "execution_count": 12,
   "id": "6ed94286-267f-4438-a9cd-c78089aa8909",
   "metadata": {},
   "outputs": [
    {
     "data": {
      "text/plain": [
       "YEAR       0\n",
       "JAN        0\n",
       "FEB        0\n",
       "MAR        0\n",
       "APR        0\n",
       "MAY        0\n",
       "JUN        0\n",
       "JUL        0\n",
       "AUG        0\n",
       "SEP        0\n",
       "OCT        0\n",
       "NOV        0\n",
       "DEC        0\n",
       "ANNUAL     0\n",
       "JAN-FEB    0\n",
       "MAR-MAY    0\n",
       "JUN-SEP    0\n",
       "OCT-DEC    0\n",
       "dtype: int64"
      ]
     },
     "execution_count": 12,
     "metadata": {},
     "output_type": "execute_result"
    }
   ],
   "source": [
    "data.isnull().sum()"
   ]
  },
  {
   "cell_type": "code",
   "execution_count": 13,
   "id": "7fcea6d4-b16f-46cb-9666-c7bdafbed46b",
   "metadata": {},
   "outputs": [],
   "source": [
    "from sklearn.model_selection import train_test_split\n",
    "from sklearn.linear_model import LinearRegression\n",
    "import matplotlib.pyplot as plt"
   ]
  },
  {
   "cell_type": "code",
   "execution_count": 14,
   "id": "3163dc85-f4fc-4aef-9b07-62b02bd8d610",
   "metadata": {},
   "outputs": [],
   "source": [
    "#selecting specific columns\n",
    "x=data[\"YEAR\"]\n",
    "y=data[\"ANNUAL\"]"
   ]
  },
  {
   "cell_type": "code",
   "execution_count": 15,
   "id": "76c44e53-ec28-4b15-ab1b-f76619f7b1be",
   "metadata": {},
   "outputs": [
    {
     "data": {
      "text/plain": [
       "[<matplotlib.lines.Line2D at 0x22e808f8450>]"
      ]
     },
     "execution_count": 15,
     "metadata": {},
     "output_type": "execute_result"
    },
    {
     "data": {
      "image/png": "[encoded data removed]",
      "text/plain": [
       "<Figure size 640x480 with 1 Axes>"
      ]
     },
     "metadata": {},
     "output_type": "display_data"
    }
   ],
   "source": [
    "#TO PLOT THE GRAPH\n",
    "plt.plot(x,y,'o')"
   ]
  },
  {
   "cell_type": "code",
   "execution_count": 21,
   "id": "236f7aae-14fe-412b-a0a8-08115981f90a",
   "metadata": {},
   "outputs": [
    {
     "data": {
      "text/plain": [
       "<Axes: xlabel='YEAR', ylabel='ANNUAL'>"
      ]
     },
     "execution_count": 21,
     "metadata": {},
     "output_type": "execute_result"
    },
    {
     "data": {
      "image/png": "[encoded data removed]",
      "text/plain": [
       "<Figure size 640x480 with 1 Axes>"
      ]
     },
     "metadata": {},
     "output_type": "display_data"
    }
   ],
   "source": [
    "df=data\n",
    "sns.scatterplot(x=x,y=y,data=df)#using seaborne"
   ]
  },
  {
   "cell_type": "code",
   "execution_count": 23,
   "id": "3769db11-984f-47d6-be89-d4c6ebd6309e",
   "metadata": {},
   "outputs": [
    {
     "data": {
      "text/plain": [
       "(117,)"
      ]
     },
     "execution_count": 23,
     "metadata": {},
     "output_type": "execute_result"
    }
   ],
   "source": [
    "#check data types\n",
    "type(x)\n",
    "#check shape of x\n",
    "x.shape"
   ]
  },
  {
   "cell_type": "code",
   "execution_count": 25,
   "id": "50da4d29-989f-4a0e-89c8-0fe65d23d60a",
   "metadata": {},
   "outputs": [],
   "source": [
    "x=x.values"
   ]
  },
  {
   "cell_type": "code",
   "execution_count": 26,
   "id": "d121fc92-b6c6-4dc9-bdbf-d248ca8e31e2",
   "metadata": {},
   "outputs": [],
   "source": [
    "x=x.reshape(117,1)"
   ]
  },
  {
   "cell_type": "code",
   "execution_count": 27,
   "id": "4a233822-abb4-4147-b3a8-a6540dcb02e4",
   "metadata": {},
   "outputs": [
    {
     "data": {
      "text/plain": [
       "numpy.ndarray"
      ]
     },
     "execution_count": 27,
     "metadata": {},
     "output_type": "execute_result"
    }
   ],
   "source": [
    "type(x)"
   ]
  },
  {
   "cell_type": "code",
   "execution_count": 28,
   "id": "62b59327-f5a9-4070-ae50-ac9ae78afac5",
   "metadata": {},
   "outputs": [
    {
     "name": "stdout",
     "output_type": "stream",
     "text": [
      "x Traininig dataset : (87, 1)\n",
      "y Training dataset : (87,)\n",
      "x test dataset: (30, 1)\n",
      "y test dataset: (30,)\n"
     ]
    }
   ],
   "source": [
    "x_train,x_test,y_train,y_test = train_test_split(x,y,test_size=0.25)\n",
    "print(f\"x Traininig dataset : {x_train.shape}\")\n",
    "print(f\"y Training dataset : {y_train.shape}\")\n",
    "print(f\"x test dataset: {x_test.shape}\")\n",
    "print(f\"y test dataset: {y_test.shape}\")\n"
   ]
  },
  {
   "cell_type": "code",
   "execution_count": 30,
   "id": "0832b1ae-909b-4f15-870d-2a9124df8e53",
   "metadata": {},
   "outputs": [
    {
     "data": {
      "text/html": [
       "<style>#sk-container-id-1 {color: black;background-color: white;}#sk-container-id-1 pre{padding: 0;}#sk-container-id-1 div.sk-toggleable {background-color: white;}#sk-container-id-1 label.sk-toggleable__label {cursor: pointer;display: block;width: 100%;margin-bottom: 0;padding: 0.3em;box-sizing: border-box;text-align: center;}#sk-container-id-1 label.sk-toggleable__label-arrow:before {content: \"▸\";float: left;margin-right: 0.25em;color: #696969;}#sk-container-id-1 label.sk-toggleable__label-arrow:hover:before {color: black;}#sk-container-id-1 div.sk-estimator:hover label.sk-toggleable__label-arrow:before {color: black;}#sk-container-id-1 div.sk-toggleable__content {max-height: 0;max-width: 0;overflow: hidden;text-align: left;background-color: #f0f8ff;}#sk-container-id-1 div.sk-toggleable__content pre {margin: 0.2em;color: black;border-radius: 0.25em;background-color: #f0f8ff;}#sk-container-id-1 input.sk-toggleable__control:checked~div.sk-toggleable__content {max-height: 200px;max-width: 100%;overflow: auto;}#sk-container-id-1 input.sk-toggleable__control:checked~label.sk-toggleable__label-arrow:before {content: \"▾\";}#sk-container-id-1 div.sk-estimator input.sk-toggleable__control:checked~label.sk-toggleable__label {background-color: #d4ebff;}#sk-container-id-1 div.sk-label input.sk-toggleable__control:checked~label.sk-toggleable__label {background-color: #d4ebff;}#sk-container-id-1 input.sk-hidden--visually {border: 0;clip: rect(1px 1px 1px 1px);clip: rect(1px, 1px, 1px, 1px);height: 1px;margin: -1px;overflow: hidden;padding: 0;position: absolute;width: 1px;}#sk-container-id-1 div.sk-estimator {font-family: monospace;background-color: #f0f8ff;border: 1px dotted black;border-radius: 0.25em;box-sizing: border-box;margin-bottom: 0.5em;}#sk-container-id-1 div.sk-estimator:hover {background-color: #d4ebff;}#sk-container-id-1 div.sk-parallel-item::after {content: \"\";width: 100%;border-bottom: 1px solid gray;flex-grow: 1;}#sk-container-id-1 div.sk-label:hover label.sk-toggleable__label {background-color: #d4ebff;}#sk-container-id-1 div.sk-serial::before {content: \"\";position: absolute;border-left: 1px solid gray;box-sizing: border-box;top: 0;bottom: 0;left: 50%;z-index: 0;}#sk-container-id-1 div.sk-serial {display: flex;flex-direction: column;align-items: center;background-color: white;padding-right: 0.2em;padding-left: 0.2em;position: relative;}#sk-container-id-1 div.sk-item {position: relative;z-index: 1;}#sk-container-id-1 div.sk-parallel {display: flex;align-items: stretch;justify-content: center;background-color: white;position: relative;}#sk-container-id-1 div.sk-item::before, #sk-container-id-1 div.sk-parallel-item::before {content: \"\";position: absolute;border-left: 1px solid gray;box-sizing: border-box;top: 0;bottom: 0;left: 50%;z-index: -1;}#sk-container-id-1 div.sk-parallel-item {display: flex;flex-direction: column;z-index: 1;position: relative;background-color: white;}#sk-container-id-1 div.sk-parallel-item:first-child::after {align-self: flex-end;width: 50%;}#sk-container-id-1 div.sk-parallel-item:last-child::after {align-self: flex-start;width: 50%;}#sk-container-id-1 div.sk-parallel-item:only-child::after {width: 0;}#sk-container-id-1 div.sk-dashed-wrapped {border: 1px dashed gray;margin: 0 0.4em 0.5em 0.4em;box-sizing: border-box;padding-bottom: 0.4em;background-color: white;}#sk-container-id-1 div.sk-label label {font-family: monospace;font-weight: bold;display: inline-block;line-height: 1.2em;}#sk-container-id-1 div.sk-label-container {text-align: center;}#sk-container-id-1 div.sk-container {/* jupyter's `normalize.less` sets `[hidden] { display: none; }` but bootstrap.min.css set `[hidden] { display: none !important; }` so we also need the `!important` here to be able to override the default hidden behavior on the sphinx rendered scikit-learn.org. See: https://github.com/scikit-learn/scikit-learn/issues/21755 */display: inline-block !important;position: relative;}#sk-container-id-1 div.sk-text-repr-fallback {display: none;}</style><div id=\"sk-container-id-1\" class=\"sk-top-container\"><div class=\"sk-text-repr-fallback\"><pre>LinearRegression()</pre><b>In a Jupyter environment, please rerun this cell to show the HTML representation or trust the notebook. <br />On GitHub, the HTML representation is unable to render, please try loading this page with nbviewer.org.</b></div><div class=\"sk-container\" hidden><div class=\"sk-item\"><div class=\"sk-estimator sk-toggleable\"><input class=\"sk-toggleable__control sk-hidden--visually\" id=\"sk-estimator-id-1\" type=\"checkbox\" checked><label for=\"sk-estimator-id-1\" class=\"sk-toggleable__label sk-toggleable__label-arrow\">LinearRegression</label><div class=\"sk-toggleable__content\"><pre>LinearRegression()</pre></div></div></div></div></div>"
      ],
      "text/plain": [
       "LinearRegression()"
      ]
     },
     "execution_count": 30,
     "metadata": {},
     "output_type": "execute_result"
    }
   ],
   "source": [
    "#Train linear Regression model\n",
    "model= LinearRegression()\n",
    "model.fit(x_train,y_train)\n",
    "LinearRegression()"
   ]
  },
  {
   "cell_type": "code",
   "execution_count": 31,
   "id": "a392ecc3-9a26-4776-ba9a-b6ebd517a285",
   "metadata": {},
   "outputs": [
    {
     "data": {
      "text/plain": [
       "array([0.01293575])"
      ]
     },
     "execution_count": 31,
     "metadata": {},
     "output_type": "execute_result"
    }
   ],
   "source": [
    "#get model coefficient\n",
    "model.coef_"
   ]
  },
  {
   "cell_type": "code",
   "execution_count": 32,
   "id": "ba8e8269-3acd-4259-9cc9-c5409360c9c1",
   "metadata": {},
   "outputs": [
    {
     "data": {
      "text/plain": [
       "3.814022046882581"
      ]
     },
     "execution_count": 32,
     "metadata": {},
     "output_type": "execute_result"
    }
   ],
   "source": [
    "#to get model intercept\n",
    "model.intercept_"
   ]
  },
  {
   "cell_type": "code",
   "execution_count": 33,
   "id": "50cf8c67-7fa2-44fd-865b-02d4be87ecb3",
   "metadata": {},
   "outputs": [],
   "source": [
    "y_pred = model.predict(x_test)#To make prediction on the test data"
   ]
  },
  {
   "cell_type": "code",
   "execution_count": 34,
   "id": "64cc7341-749a-4f9a-8ce2-cddee25ba5a3",
   "metadata": {},
   "outputs": [
    {
     "data": {
      "text/plain": [
       "(30,)"
      ]
     },
     "execution_count": 34,
     "metadata": {},
     "output_type": "execute_result"
    }
   ],
   "source": [
    "#predict data shape\n",
    "y_pred.shape"
   ]
  },
  {
   "cell_type": "code",
   "execution_count": 35,
   "id": "2ad4e985-e3af-4a7d-bbf0-b64257e59834",
   "metadata": {},
   "outputs": [
    {
     "data": {
      "image/png": "[encoded data removed]",
      "text/plain": [
       "<Figure size 640x480 with 1 Axes>"
      ]
     },
     "metadata": {},
     "output_type": "display_data"
    }
   ],
   "source": [
    "#To plot scatterplot\n",
    "plt.scatter(x_train, y_train, color='blue')\n",
    "plt.plot(x_test, y_pred, color='red',linewidth=3)\n",
    "plt.title(\"Temperature vs Year\")\n",
    "plt.xlabel(\"Temperature\")\n",
    "plt.show()"
   ]
  },
  {
   "cell_type": "code",
   "execution_count": 36,
   "id": "4d01db11-fb5b-4c42-b44f-3076c76b713d",
   "metadata": {},
   "outputs": [
    {
     "data": {
      "text/plain": [
       "<Axes: ylabel='ANNUAL'>"
      ]
     },
     "execution_count": 36,
     "metadata": {},
     "output_type": "execute_result"
    },
    {
     "data": {
      "image/png": "[encoded data removed]",
      "text/plain": [
       "<Figure size 640x480 with 1 Axes>"
      ]
     },
     "metadata": {},
     "output_type": "display_data"
    }
   ],
   "source": [
    "#scatterplot with regression line\n",
    "sns.regplot(x=x_train,y=y_train,data=df)"
   ]
  },
  {
   "cell_type": "code",
   "execution_count": null,
   "id": "37f59841-ee3d-49c2-b69d-ef173136e6b7",
   "metadata": {},
   "outputs": [],
   "source": [
    "#To find MSE,MAE,R-SQUARE\n",
    "from sklearn.metrics import mean_absolute_error,mean_squared_error,r2_square\n",
    "print(f\"MSE : {mean_squared_error(y_test,y_pred)}\")\n",
    "print(f\"MAE : {mean_absolute_error(y_test,y_pred)}\")\n",
    "print(f\"R-square : {r2_score(y_test,y_pred)}\")"
   ]
  }
 ],
 "metadata": {
  "kernelspec": {
   "display_name": "Python 3 (ipykernel)",
   "language": "python",
   "name": "python3"
  },
  "language_info": {
   "codemirror_mode": {
    "name": "ipython",
    "version": 3
   },
   "file_extension": ".py",
   "mimetype": "text/x-python",
   "name": "python",
   "nbconvert_exporter": "python",
   "pygments_lexer": "ipython3",
   "version": "3.11.7"
  }
 },
 "nbformat": 4,
 "nbformat_minor": 5
}
