{
 "cells": [
  {
   "cell_type": "code",
   "execution_count": null,
   "id": "679e9429-ef33-4c16-bec7-2f8cf952e6b8",
   "metadata": {},
   "outputs": [],
   "source": [
    "#Perform the following operations using R/Python on the data sets:\n",
    "#a) Compute and display summary statistics for each feature available in the dataset. (e.g.\n",
    "#minimum value, maximum value, mean, range, standard deviation, variance and percentiles\n",
    "#b) Data Visualization-Create a histogram for each feature in the dataset to illustrate the\n",
    "#feature distributions.\n",
    "#c) Data cleaning, Data integration, Data transformation, Data model building (e.g.\n",
    "#Classification)"
   ]
  },
  {
   "cell_type": "code",
   "execution_count": 1,
   "id": "1f4507f8-9bf5-40b1-8a4b-f5dee4870bb9",
   "metadata": {},
   "outputs": [],
   "source": [
    "\n",
    "import numpy as np\n",
    "import pandas as pd\n",
    "import seaborn as sn"
   ]
  },
  {
   "cell_type": "code",
   "execution_count": 3,
   "id": "c774a21d-14da-4808-a3ba-ac746452e2cc",
   "metadata": {},
   "outputs": [],
   "source": [
    "#Read the dataset\n",
    "data=pd.read_csv('admission.csv')"
   ]
  },
  {
   "cell_type": "code",
   "execution_count": 4,
   "id": "42d1f0ad-d1fc-4271-a7f5-5758e923b04a",
   "metadata": {},
   "outputs": [
    {
     "data": {
      "text/html": [
       "<div>\n",
       "<style scoped>\n",
       "    .dataframe tbody tr th:only-of-type {\n",
       "        vertical-align: middle;\n",
       "    }\n",
       "\n",
       "    .dataframe tbody tr th {\n",
       "        vertical-align: top;\n",
       "    }\n",
       "\n",
       "    .dataframe thead th {\n",
       "        text-align: right;\n",
       "    }\n",
       "</style>\n",
       "<table border=\"1\" class=\"dataframe\">\n",
       "  <thead>\n",
       "    <tr style=\"text-align: right;\">\n",
       "      <th></th>\n",
       "      <th>Serial No.</th>\n",
       "      <th>GRE Score</th>\n",
       "      <th>TOEFL Score</th>\n",
       "      <th>University Rating</th>\n",
       "      <th>SOP</th>\n",
       "      <th>LOR</th>\n",
       "      <th>CGPA</th>\n",
       "      <th>Research</th>\n",
       "      <th>Chance of Admit</th>\n",
       "    </tr>\n",
       "  </thead>\n",
       "  <tbody>\n",
       "    <tr>\n",
       "      <th>count</th>\n",
       "      <td>500.000000</td>\n",
       "      <td>500.000000</td>\n",
       "      <td>500.000000</td>\n",
       "      <td>500.000000</td>\n",
       "      <td>500.000000</td>\n",
       "      <td>500.00000</td>\n",
       "      <td>500.000000</td>\n",
       "      <td>500.000000</td>\n",
       "      <td>500.00000</td>\n",
       "    </tr>\n",
       "    <tr>\n",
       "      <th>mean</th>\n",
       "      <td>250.500000</td>\n",
       "      <td>316.472000</td>\n",
       "      <td>107.192000</td>\n",
       "      <td>3.114000</td>\n",
       "      <td>3.374000</td>\n",
       "      <td>3.48400</td>\n",
       "      <td>8.576440</td>\n",
       "      <td>0.560000</td>\n",
       "      <td>0.72174</td>\n",
       "    </tr>\n",
       "    <tr>\n",
       "      <th>std</th>\n",
       "      <td>144.481833</td>\n",
       "      <td>11.295148</td>\n",
       "      <td>6.081868</td>\n",
       "      <td>1.143512</td>\n",
       "      <td>0.991004</td>\n",
       "      <td>0.92545</td>\n",
       "      <td>0.604813</td>\n",
       "      <td>0.496884</td>\n",
       "      <td>0.14114</td>\n",
       "    </tr>\n",
       "    <tr>\n",
       "      <th>min</th>\n",
       "      <td>1.000000</td>\n",
       "      <td>290.000000</td>\n",
       "      <td>92.000000</td>\n",
       "      <td>1.000000</td>\n",
       "      <td>1.000000</td>\n",
       "      <td>1.00000</td>\n",
       "      <td>6.800000</td>\n",
       "      <td>0.000000</td>\n",
       "      <td>0.34000</td>\n",
       "    </tr>\n",
       "    <tr>\n",
       "      <th>25%</th>\n",
       "      <td>125.750000</td>\n",
       "      <td>308.000000</td>\n",
       "      <td>103.000000</td>\n",
       "      <td>2.000000</td>\n",
       "      <td>2.500000</td>\n",
       "      <td>3.00000</td>\n",
       "      <td>8.127500</td>\n",
       "      <td>0.000000</td>\n",
       "      <td>0.63000</td>\n",
       "    </tr>\n",
       "    <tr>\n",
       "      <th>50%</th>\n",
       "      <td>250.500000</td>\n",
       "      <td>317.000000</td>\n",
       "      <td>107.000000</td>\n",
       "      <td>3.000000</td>\n",
       "      <td>3.500000</td>\n",
       "      <td>3.50000</td>\n",
       "      <td>8.560000</td>\n",
       "      <td>1.000000</td>\n",
       "      <td>0.72000</td>\n",
       "    </tr>\n",
       "    <tr>\n",
       "      <th>75%</th>\n",
       "      <td>375.250000</td>\n",
       "      <td>325.000000</td>\n",
       "      <td>112.000000</td>\n",
       "      <td>4.000000</td>\n",
       "      <td>4.000000</td>\n",
       "      <td>4.00000</td>\n",
       "      <td>9.040000</td>\n",
       "      <td>1.000000</td>\n",
       "      <td>0.82000</td>\n",
       "    </tr>\n",
       "    <tr>\n",
       "      <th>max</th>\n",
       "      <td>500.000000</td>\n",
       "      <td>340.000000</td>\n",
       "      <td>120.000000</td>\n",
       "      <td>5.000000</td>\n",
       "      <td>5.000000</td>\n",
       "      <td>5.00000</td>\n",
       "      <td>9.920000</td>\n",
       "      <td>1.000000</td>\n",
       "      <td>0.97000</td>\n",
       "    </tr>\n",
       "  </tbody>\n",
       "</table>\n",
       "</div>"
      ],
      "text/plain": [
       "       Serial No.   GRE Score  TOEFL Score  University Rating         SOP  \\\n",
       "count  500.000000  500.000000   500.000000         500.000000  500.000000   \n",
       "mean   250.500000  316.472000   107.192000           3.114000    3.374000   \n",
       "std    144.481833   11.295148     6.081868           1.143512    0.991004   \n",
       "min      1.000000  290.000000    92.000000           1.000000    1.000000   \n",
       "25%    125.750000  308.000000   103.000000           2.000000    2.500000   \n",
       "50%    250.500000  317.000000   107.000000           3.000000    3.500000   \n",
       "75%    375.250000  325.000000   112.000000           4.000000    4.000000   \n",
       "max    500.000000  340.000000   120.000000           5.000000    5.000000   \n",
       "\n",
       "            LOR         CGPA    Research  Chance of Admit   \n",
       "count  500.00000  500.000000  500.000000         500.00000  \n",
       "mean     3.48400    8.576440    0.560000           0.72174  \n",
       "std      0.92545    0.604813    0.496884           0.14114  \n",
       "min      1.00000    6.800000    0.000000           0.34000  \n",
       "25%      3.00000    8.127500    0.000000           0.63000  \n",
       "50%      3.50000    8.560000    1.000000           0.72000  \n",
       "75%      4.00000    9.040000    1.000000           0.82000  \n",
       "max      5.00000    9.920000    1.000000           0.97000  "
      ]
     },
     "execution_count": 4,
     "metadata": {},
     "output_type": "execute_result"
    }
   ],
   "source": [
    "#To describe the data\n",
    "data.describe()\n"
   ]
  },
  {
   "cell_type": "code",
   "execution_count": 5,
   "id": "c8043ede-6999-4a22-ab75-415ddca6f064",
   "metadata": {},
   "outputs": [
    {
     "name": "stdout",
     "output_type": "stream",
     "text": [
      "<class 'pandas.core.frame.DataFrame'>\n",
      "RangeIndex: 500 entries, 0 to 499\n",
      "Data columns (total 9 columns):\n",
      " #   Column             Non-Null Count  Dtype  \n",
      "---  ------             --------------  -----  \n",
      " 0   Serial No.         500 non-null    int64  \n",
      " 1   GRE Score          500 non-null    int64  \n",
      " 2   TOEFL Score        500 non-null    int64  \n",
      " 3   University Rating  500 non-null    int64  \n",
      " 4   SOP                500 non-null    float64\n",
      " 5   LOR                500 non-null    float64\n",
      " 6   CGPA               500 non-null    float64\n",
      " 7   Research           500 non-null    int64  \n",
      " 8   Chance of Admit    500 non-null    float64\n",
      "dtypes: float64(4), int64(5)\n",
      "memory usage: 35.3 KB\n"
     ]
    }
   ],
   "source": [
    "#To find out info about dataset\n",
    "data.info()"
   ]
  },
  {
   "cell_type": "code",
   "execution_count": 6,
   "id": "2876bc4f-01ea-4ff8-8fc3-ae161da5ee59",
   "metadata": {},
   "outputs": [
    {
     "data": {
      "text/plain": [
       "<bound method NDFrame.head of      Serial No.  GRE Score  TOEFL Score  University Rating  SOP  LOR   CGPA  \\\n",
       "0             1        337          118                  4  4.5   4.5  9.65   \n",
       "1             2        324          107                  4  4.0   4.5  8.87   \n",
       "2             3        316          104                  3  3.0   3.5  8.00   \n",
       "3             4        322          110                  3  3.5   2.5  8.67   \n",
       "4             5        314          103                  2  2.0   3.0  8.21   \n",
       "..          ...        ...          ...                ...  ...   ...   ...   \n",
       "495         496        332          108                  5  4.5   4.0  9.02   \n",
       "496         497        337          117                  5  5.0   5.0  9.87   \n",
       "497         498        330          120                  5  4.5   5.0  9.56   \n",
       "498         499        312          103                  4  4.0   5.0  8.43   \n",
       "499         500        327          113                  4  4.5   4.5  9.04   \n",
       "\n",
       "     Research  Chance of Admit   \n",
       "0           1              0.92  \n",
       "1           1              0.76  \n",
       "2           1              0.72  \n",
       "3           1              0.80  \n",
       "4           0              0.65  \n",
       "..        ...               ...  \n",
       "495         1              0.87  \n",
       "496         1              0.96  \n",
       "497         1              0.93  \n",
       "498         0              0.73  \n",
       "499         0              0.84  \n",
       "\n",
       "[500 rows x 9 columns]>"
      ]
     },
     "execution_count": 6,
     "metadata": {},
     "output_type": "execute_result"
    }
   ],
   "source": [
    "#To find out first five rows about the dataset\n",
    "data.head"
   ]
  },
  {
   "cell_type": "code",
   "execution_count": 7,
   "id": "74525857-171f-4935-987b-8ddb8a1a32c8",
   "metadata": {},
   "outputs": [
    {
     "data": {
      "text/plain": [
       "Serial No.             1.00\n",
       "GRE Score            290.00\n",
       "TOEFL Score           92.00\n",
       "University Rating      1.00\n",
       "SOP                    1.00\n",
       "LOR                    1.00\n",
       "CGPA                   6.80\n",
       "Research               0.00\n",
       "Chance of Admit        0.34\n",
       "dtype: float64"
      ]
     },
     "execution_count": 7,
     "metadata": {},
     "output_type": "execute_result"
    }
   ],
   "source": [
    "#a) Compute and display summary statistics for each feature available in the dataset. (e.g.\n",
    "#minimum value, maximum value, mean, range, standard deviation, variance and percentiles\n",
    "#To find out minimum value about dataset\n",
    "data.min()"
   ]
  },
  {
   "cell_type": "code",
   "execution_count": 8,
   "id": "f94a152f-ac9c-46cc-a6b4-18e38152228d",
   "metadata": {},
   "outputs": [
    {
     "data": {
      "text/plain": [
       "Serial No.           500.00\n",
       "GRE Score            340.00\n",
       "TOEFL Score          120.00\n",
       "University Rating      5.00\n",
       "SOP                    5.00\n",
       "LOR                    5.00\n",
       "CGPA                   9.92\n",
       "Research               1.00\n",
       "Chance of Admit        0.97\n",
       "dtype: float64"
      ]
     },
     "execution_count": 8,
     "metadata": {},
     "output_type": "execute_result"
    }
   ],
   "source": [
    "#To find out maximum value about dataset\n",
    "data.max()"
   ]
  },
  {
   "cell_type": "code",
   "execution_count": 9,
   "id": "86fb08b0-8cf2-41da-9070-fd2128e8e1e8",
   "metadata": {},
   "outputs": [
    {
     "data": {
      "text/plain": [
       "Serial No.             1.00\n",
       "GRE Score            290.00\n",
       "TOEFL Score           92.00\n",
       "University Rating      1.00\n",
       "SOP                    1.00\n",
       "LOR                    1.00\n",
       "CGPA                   6.80\n",
       "Research               0.00\n",
       "Chance of Admit        0.34\n",
       "dtype: float64"
      ]
     },
     "execution_count": 9,
     "metadata": {},
     "output_type": "execute_result"
    }
   ],
   "source": [
    "#To find out min of all value about dataset\n",
    "data.min()"
   ]
  },
  {
   "cell_type": "code",
   "execution_count": 10,
   "id": "0bed1564-93ea-4be9-b8a5-9e38aec97c23",
   "metadata": {},
   "outputs": [
    {
     "name": "stdout",
     "output_type": "stream",
     "text": [
      "Serial No.           499.00\n",
      "GRE Score             50.00\n",
      "TOEFL Score           28.00\n",
      "University Rating      4.00\n",
      "SOP                    4.00\n",
      "LOR                    4.00\n",
      "CGPA                   3.12\n",
      "Research               1.00\n",
      "Chance of Admit        0.63\n",
      "dtype: float64\n"
     ]
    }
   ],
   "source": [
    "#To find out range of about dataset\n",
    "range_values=data.max()-data.min()\n",
    "print(range_values)"
   ]
  },
  {
   "cell_type": "code",
   "execution_count": 11,
   "id": "c101c07e-1660-448d-aa78-12dc72e77b47",
   "metadata": {},
   "outputs": [
    {
     "data": {
      "text/plain": [
       "Serial No.           144.481833\n",
       "GRE Score             11.295148\n",
       "TOEFL Score            6.081868\n",
       "University Rating      1.143512\n",
       "SOP                    0.991004\n",
       "LOR                    0.925450\n",
       "CGPA                   0.604813\n",
       "Research               0.496884\n",
       "Chance of Admit        0.141140\n",
       "dtype: float64"
      ]
     },
     "execution_count": 11,
     "metadata": {},
     "output_type": "execute_result"
    }
   ],
   "source": [
    "#To find out Standard deviation of about dataset\n",
    "data.std()"
   ]
  },
  {
   "cell_type": "code",
   "execution_count": 12,
   "id": "ede18e28-318a-4e66-8323-ea0dec04bdb5",
   "metadata": {},
   "outputs": [
    {
     "data": {
      "text/plain": [
       "Serial No.           20875.000000\n",
       "GRE Score              127.580377\n",
       "TOEFL Score             36.989114\n",
       "University Rating        1.307619\n",
       "SOP                      0.982088\n",
       "LOR                      0.856457\n",
       "CGPA                     0.365799\n",
       "Research                 0.246894\n",
       "Chance of Admit          0.019921\n",
       "dtype: float64"
      ]
     },
     "execution_count": 12,
     "metadata": {},
     "output_type": "execute_result"
    }
   ],
   "source": [
    "#To find out variance of about dataset\n",
    "data.var()"
   ]
  },
  {
   "cell_type": "code",
   "execution_count": 14,
   "id": "2eeba584-d31d-4309-824b-1139a3396a20",
   "metadata": {},
   "outputs": [
    {
     "data": {
      "text/html": [
       "<div>\n",
       "<style scoped>\n",
       "    .dataframe tbody tr th:only-of-type {\n",
       "        vertical-align: middle;\n",
       "    }\n",
       "\n",
       "    .dataframe tbody tr th {\n",
       "        vertical-align: top;\n",
       "    }\n",
       "\n",
       "    .dataframe thead th {\n",
       "        text-align: right;\n",
       "    }\n",
       "</style>\n",
       "<table border=\"1\" class=\"dataframe\">\n",
       "  <thead>\n",
       "    <tr style=\"text-align: right;\">\n",
       "      <th></th>\n",
       "      <th>Serial No.</th>\n",
       "      <th>GRE Score</th>\n",
       "      <th>TOEFL Score</th>\n",
       "      <th>University Rating</th>\n",
       "      <th>SOP</th>\n",
       "      <th>LOR</th>\n",
       "      <th>CGPA</th>\n",
       "      <th>Research</th>\n",
       "      <th>Chance of Admit</th>\n",
       "    </tr>\n",
       "  </thead>\n",
       "  <tbody>\n",
       "    <tr>\n",
       "      <th>0.25</th>\n",
       "      <td>125.75</td>\n",
       "      <td>308.0</td>\n",
       "      <td>103.0</td>\n",
       "      <td>2.0</td>\n",
       "      <td>2.5</td>\n",
       "      <td>3.0</td>\n",
       "      <td>8.1275</td>\n",
       "      <td>0.0</td>\n",
       "      <td>0.63</td>\n",
       "    </tr>\n",
       "    <tr>\n",
       "      <th>0.50</th>\n",
       "      <td>250.50</td>\n",
       "      <td>317.0</td>\n",
       "      <td>107.0</td>\n",
       "      <td>3.0</td>\n",
       "      <td>3.5</td>\n",
       "      <td>3.5</td>\n",
       "      <td>8.5600</td>\n",
       "      <td>1.0</td>\n",
       "      <td>0.72</td>\n",
       "    </tr>\n",
       "    <tr>\n",
       "      <th>0.75</th>\n",
       "      <td>375.25</td>\n",
       "      <td>325.0</td>\n",
       "      <td>112.0</td>\n",
       "      <td>4.0</td>\n",
       "      <td>4.0</td>\n",
       "      <td>4.0</td>\n",
       "      <td>9.0400</td>\n",
       "      <td>1.0</td>\n",
       "      <td>0.82</td>\n",
       "    </tr>\n",
       "  </tbody>\n",
       "</table>\n",
       "</div>"
      ],
      "text/plain": [
       "      Serial No.  GRE Score  TOEFL Score  University Rating  SOP  LOR   \\\n",
       "0.25      125.75      308.0        103.0                2.0  2.5   3.0   \n",
       "0.50      250.50      317.0        107.0                3.0  3.5   3.5   \n",
       "0.75      375.25      325.0        112.0                4.0  4.0   4.0   \n",
       "\n",
       "        CGPA  Research  Chance of Admit   \n",
       "0.25  8.1275       0.0              0.63  \n",
       "0.50  8.5600       1.0              0.72  \n",
       "0.75  9.0400       1.0              0.82  "
      ]
     },
     "execution_count": 14,
     "metadata": {},
     "output_type": "execute_result"
    }
   ],
   "source": [
    "#To find out percentiles of about dataset\n",
    "data.quantile([0.25,0.50,0.75])"
   ]
  },
  {
   "cell_type": "code",
   "execution_count": 17,
   "id": "e6cde6ec-a103-48b1-acdf-f4a6cd95bcb9",
   "metadata": {},
   "outputs": [],
   "source": [
    "import matplotlib.pyplot as plt"
   ]
  },
  {
   "cell_type": "code",
   "execution_count": 18,
   "id": "e747d3bf-8d1f-4f81-a170-c25410f0c7ee",
   "metadata": {},
   "outputs": [
    {
     "data": {
      "image/png": "[encoded data removed]",
      "text/plain": [
       "<Figure size 1200x800 with 9 Axes>"
      ]
     },
     "metadata": {},
     "output_type": "display_data"
    }
   ],
   "source": [
    "#b) Data Visualization-Create a histogram for each feature in the dataset to illustrate the\n",
    "#feature distributions.\n",
    "sn.set_style(\"whitegrid\")\n",
    "\n",
    "# Create histograms for each feature\n",
    "data.hist(figsize=(12, 8), bins=20, color='skyblue', edgecolor='black')\n",
    "\n",
    "# Adjust layout\n",
    "plt.suptitle(\"Feature Distributions\", fontsize=16)\n",
    "plt.tight_layout(rect=[0, 0, 1, 0.96])\n",
    "plt.show()"
   ]
  },
  {
   "cell_type": "code",
   "execution_count": null,
   "id": "3a1fe998-8e6b-4d78-96d2-a84e7d8a7517",
   "metadata": {},
   "outputs": [],
   "source": [
    "#c) Data cleaning, Data integration, Data transformation, Data model building (e.g.\n",
    "#Classification)\n"
   ]
  },
  {
   "cell_type": "code",
   "execution_count": 22,
   "id": "879c0371-5c60-4fc1-954d-506d903f078f",
   "metadata": {},
   "outputs": [
    {
     "data": {
      "image/png": "[encoded data removed]",
      "text/plain": [
       "<Figure size 640x480 with 1 Axes>"
      ]
     },
     "metadata": {},
     "output_type": "display_data"
    }
   ],
   "source": [
    "#DATA CLEANING\n",
    "#fill null values with median\n",
    "data.fillna(data.median(), inplace=True)\n",
    "#Handle duplicates\n",
    "data.drop_duplicates(inplace=True)\n",
    "#Handle outliers\n",
    "sn.boxplot(x=data['CGPA'])  # Visualize outliers\n",
    "data = data[data['CGPA'] < data['CGPA'].quantile(0.99)]  # Remove extreme outliers\n"
   ]
  },
  {
   "cell_type": "code",
   "execution_count": 37,
   "id": "dcab21aa-0194-4bff-bf1e-e6c3705d1bc7",
   "metadata": {},
   "outputs": [],
   "source": [
    "#Data transoformation  and model building\n",
    "from sklearn.model_selection import train_test_split\n",
    "from sklearn.preprocessing import StandardScaler\n",
    "from sklearn.linear_model import LogisticRegression\n",
    "from sklearn.metrics import accuracy_score, classification_report"
   ]
  },
  {
   "cell_type": "code",
   "execution_count": 42,
   "id": "f295e9b5-f8ec-42cc-b3fc-de2b6c57d18a",
   "metadata": {},
   "outputs": [
    {
     "data": {
      "text/plain": [
       "Index(['GRE Score', 'TOEFL Score', 'SOP', 'LOR ', 'CGPA',\n",
       "       'University Rating_2', 'University Rating_3', 'University Rating_4',\n",
       "       'University Rating_5', 'Research_1', 'Admit'],\n",
       "      dtype='object')"
      ]
     },
     "execution_count": 42,
     "metadata": {},
     "output_type": "execute_result"
    }
   ],
   "source": [
    "data.columns"
   ]
  },
  {
   "cell_type": "code",
   "execution_count": 43,
   "id": "4e3848d8-a3ee-4e73-b3fa-c5ce52c74133",
   "metadata": {},
   "outputs": [
    {
     "name": "stdout",
     "output_type": "stream",
     "text": [
      "Model Accuracy: 0.91\n",
      "Classification Report:\n",
      "               precision    recall  f1-score   support\n",
      "\n",
      "           0       0.90      0.95      0.92        56\n",
      "           1       0.93      0.86      0.89        43\n",
      "\n",
      "    accuracy                           0.91        99\n",
      "   macro avg       0.91      0.90      0.91        99\n",
      "weighted avg       0.91      0.91      0.91        99\n",
      "\n"
     ]
    }
   ],
   "source": [
    "\n",
    "from sklearn.model_selection import train_test_split\n",
    "from sklearn.preprocessing import StandardScaler\n",
    "from sklearn.linear_model import LogisticRegression\n",
    "from sklearn.metrics import accuracy_score, classification_report\n",
    "\n",
    "# Check for missing values in the dataset and handle them\n",
    "if data.isnull().sum().any():\n",
    "    print(\"Missing values found. Handling them now...\")\n",
    "    data.fillna(data.median(), inplace=True)  # Filling missing values with median if any\n",
    "\n",
    "# Handle numerical columns by scaling them (standardizing)\n",
    "numerical_columns = ['GRE Score', 'TOEFL Score', 'SOP', 'LOR ', 'CGPA']\n",
    "\n",
    "# Standardizing the numerical features\n",
    "scaler = StandardScaler()\n",
    "data[numerical_columns] = scaler.fit_transform(data[numerical_columns])\n",
    "\n",
    "# Now separate features and target variable\n",
    "X = data.drop(columns=['Admit'])  # Features (excluding the target column)\n",
    "y = data['Admit']  # Target variable (the 'Admit' column)\n",
    "\n",
    "# Split data into training and test sets (80% train, 20% test)\n",
    "X_train, X_test, y_train, y_test = train_test_split(X, y, test_size=0.2, random_state=42, stratify=y)\n",
    "\n",
    "# Train a logistic regression model (as an example)\n",
    "model = LogisticRegression()\n",
    "model.fit(X_train, y_train)\n",
    "\n",
    "# Make predictions\n",
    "y_pred = model.predict(X_test)\n",
    "\n",
    "# Evaluate model performance\n",
    "accuracy = accuracy_score(y_test, y_pred)\n",
    "print(f\"Model Accuracy: {accuracy:.2f}\")\n",
    "print(\"Classification Report:\\n\", classification_report(y_test, y_pred))\n"
   ]
  },
  {
   "cell_type": "code",
   "execution_count": null,
   "id": "93b75c1b-446d-4b9d-9bbe-fc06f7480de4",
   "metadata": {},
   "outputs": [],
   "source": []
  }
 ],
 "metadata": {
  "kernelspec": {
   "display_name": "Python 3 (ipykernel)",
   "language": "python",
   "name": "python3"
  },
  "language_info": {
   "codemirror_mode": {
    "name": "ipython",
    "version": 3
   },
   "file_extension": ".py",
   "mimetype": "text/x-python",
   "name": "python",
   "nbconvert_exporter": "python",
   "pygments_lexer": "ipython3",
   "version": "3.11.7"
  }
 },
 "nbformat": 4,
 "nbformat_minor": 5
}
